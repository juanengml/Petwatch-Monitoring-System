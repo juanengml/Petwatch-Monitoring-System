{
 "cells": [
  {
   "cell_type": "code",
   "execution_count": 2,
   "metadata": {},
   "outputs": [
    {
     "name": "stdout",
     "output_type": "stream",
     "text": [
      "portainer_data\n"
     ]
    }
   ],
   "source": [
    "!docker volume create portainer_data"
   ]
  },
  {
   "cell_type": "code",
   "execution_count": 3,
   "metadata": {},
   "outputs": [
    {
     "name": "stdout",
     "output_type": "stream",
     "text": [
      "b92394988c339f17e1fee490ca8fcc12578a268f3e4bf173753c79634f4d2816\n"
     ]
    }
   ],
   "source": [
    "!docker run -d -p 9001:9000 -p 8001:8000 -p 9443:9443 --name portainer --restart=always -v /var/run/docker.sock:/var/run/docker.sock -v portainer_data:/data portainer/portainer-ce:latest"
   ]
  },
  {
   "cell_type": "code",
   "execution_count": 5,
   "metadata": {},
   "outputs": [
    {
     "name": "stdout",
     "output_type": "stream",
     "text": [
      "        inet 192.168.0.45  netmask 255.255.255.0  broadcast 192.168.0.255\n",
      "        inet 192.168.0.43  netmask 255.255.255.0  broadcast 192.168.0.255\n"
     ]
    }
   ],
   "source": [
    "!ifconfig | grep 192"
   ]
  },
  {
   "cell_type": "code",
   "execution_count": 6,
   "metadata": {},
   "outputs": [
    {
     "name": "stdout",
     "output_type": "stream",
     "text": [
      "CONTAINER ID   IMAGE                           COMMAND                  CREATED              STATUS                        PORTS                                                                                                                             NAMES\n",
      "c4d2ccaddd14   mysql/mysql-server:5.7          \"/entrypoint.sh mysq…\"   About a minute ago   Up About a minute (healthy)   0.0.0.0:3306->3306/tcp, :::3306->3306/tcp, 33060/tcp                                                                              petwatch-db\n",
      "b92394988c33   portainer/portainer-ce:latest   \"/portainer\"             4 minutes ago        Up 4 minutes                  0.0.0.0:9443->9443/tcp, :::9443->9443/tcp, 0.0.0.0:8001->8000/tcp, :::8001->8000/tcp, 0.0.0.0:9001->9000/tcp, :::9001->9000/tcp   portainer\n"
     ]
    }
   ],
   "source": [
    "!docker ps "
   ]
  },
  {
   "cell_type": "code",
   "execution_count": 9,
   "metadata": {},
   "outputs": [
    {
     "name": "stdout",
     "output_type": "stream",
     "text": [
      "Enter password: \n",
      "ERROR 1045 (28000): Access denied for user 'root'@'172.17.0.3' (using password: YES)\n"
     ]
    }
   ],
   "source": [
    "# Acessa o container e cria o banco de dados\n",
    "!docker exec -it c4d2ccaddd14 mysql -h 172.17.0.3 -u root -p -e \"CREATE DATABASE petwatch;\"\n"
   ]
  },
  {
   "cell_type": "code",
   "execution_count": null,
   "metadata": {},
   "outputs": [],
   "source": [
    "Type 'help;' or '\\h' for help. Type '\\c' to clear the current input statement.\n",
    "\n",
    "mysql> CREATE DATABASE petwatch-db;\n",
    "ERROR 1064 (42000): You have an error in your SQL syntax; check the manual that corresponds to your MySQL server version for the right syntax to use near '-db' at line 1\n",
    "mysql> CREATE DATABASE petwatch-db\n",
    "    -> ;\n",
    "ERROR 1064 (42000): You have an error in your SQL syntax; check the manual that corresponds to your MySQL server version for the right syntax to use near '-db' at line 1\n",
    "mysql> CREATE DATABASE petwatch;\n",
    "Query OK, 1 row affected (0.00 sec)\n",
    "\n",
    "mysql> \n"
   ]
  }
 ],
 "metadata": {
  "kernelspec": {
   "display_name": "env",
   "language": "python",
   "name": "python3"
  },
  "language_info": {
   "codemirror_mode": {
    "name": "ipython",
    "version": 3
   },
   "file_extension": ".py",
   "mimetype": "text/x-python",
   "name": "python",
   "nbconvert_exporter": "python",
   "pygments_lexer": "ipython3",
   "version": "3.10.12"
  },
  "orig_nbformat": 4
 },
 "nbformat": 4,
 "nbformat_minor": 2
}
