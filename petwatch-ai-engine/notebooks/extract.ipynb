{
 "cells": [
  {
   "cell_type": "code",
   "execution_count": 2,
   "metadata": {},
   "outputs": [],
   "source": [
    "from requests import post"
   ]
  },
  {
   "cell_type": "code",
   "execution_count": 8,
   "metadata": {},
   "outputs": [],
   "source": [
    "data = {\n",
    "    'source': '/home/juannascimento/Documentos/dataset/ada.mp4',\n",
    "    'nome_do_gato': 'ada',\n",
    "    'folder': 'ada'\n",
    "}"
   ]
  },
  {
   "cell_type": "code",
   "execution_count": 9,
   "metadata": {},
   "outputs": [
    {
     "data": {
      "text/plain": [
       "{'message': 'Extração iniciada', 'thread_name': 'Thread-3'}"
      ]
     },
     "execution_count": 9,
     "metadata": {},
     "output_type": "execute_result"
    }
   ],
   "source": [
    "endpoint = \"http://192.168.0.43:5000/start_extraction\"\n",
    "post(endpoint, json=data).json()"
   ]
  },
  {
   "cell_type": "code",
   "execution_count": 7,
   "metadata": {},
   "outputs": [
    {
     "data": {
      "text/plain": [
       "{'source': '/home/juannascimento/Documentos/dataset/ada.mp4',\n",
       " 'nome_do_gato': 'ada',\n",
       " 'folder': 'ada'}"
      ]
     },
     "execution_count": 7,
     "metadata": {},
     "output_type": "execute_result"
    }
   ],
   "source": [
    "data"
   ]
  },
  {
   "cell_type": "code",
   "execution_count": 5,
   "metadata": {},
   "outputs": [],
   "source": [
    "from os import chdir"
   ]
  },
  {
   "cell_type": "code",
   "execution_count": 10,
   "metadata": {},
   "outputs": [
    {
     "ename": "NameError",
     "evalue": "name 'chdir' is not defined",
     "output_type": "error",
     "traceback": [
      "\u001b[0;31m---------------------------------------------------------------------------\u001b[0m",
      "\u001b[0;31mNameError\u001b[0m                                 Traceback (most recent call last)",
      "\u001b[1;32m/home/juannascimento/Petwatch-Monitoring-System/petwatch-ai-engine/notebooks/extract.ipynb Cell 6\u001b[0m line \u001b[0;36m1\n\u001b[0;32m----> <a href='vscode-notebook-cell:/home/juannascimento/Petwatch-Monitoring-System/petwatch-ai-engine/notebooks/extract.ipynb#W4sZmlsZQ%3D%3D?line=0'>1</a>\u001b[0m chdir(\u001b[39m\"\u001b[39m\u001b[39m../\u001b[39m\u001b[39m\"\u001b[39m)\n",
      "\u001b[0;31mNameError\u001b[0m: name 'chdir' is not defined"
     ]
    }
   ],
   "source": [
    "chdir(\"../\")"
   ]
  },
  {
   "cell_type": "code",
   "execution_count": 6,
   "metadata": {},
   "outputs": [
    {
     "name": "stdout",
     "output_type": "stream",
     "text": [
      "{'message': 'Extração iniciada', 'thread_name': 'Thread-3'}\n"
     ]
    }
   ],
   "source": [
    "\n",
    "\n",
    "# URL da rota\n",
    "endpoint = \"http://192.168.0.43:5000/start_extraction\"\n",
    "\n",
    "# Dados para o JSON\n",
    "data = {\n",
    "    \"source\": \"/home/juannascimento/Documentos/dataset/ada.mp4\",  # Substitua pelo caminho real do vídeo\n",
    "    \"nome_do_gato\": \"ada\",  # Substitua pelo nome do gato\n",
    "    \"folder\": \"ada\"  # Substitua pelo caminho real da pasta de destino\n",
    "}\n",
    "\n",
    "# Enviar a solicitação POST\n",
    "response = post(endpoint, json=data)\n",
    "\n",
    "print(response.json())"
   ]
  },
  {
   "cell_type": "code",
   "execution_count": null,
   "metadata": {},
   "outputs": [],
   "source": []
  }
 ],
 "metadata": {
  "kernelspec": {
   "display_name": "env",
   "language": "python",
   "name": "python3"
  },
  "language_info": {
   "codemirror_mode": {
    "name": "ipython",
    "version": 3
   },
   "file_extension": ".py",
   "mimetype": "text/x-python",
   "name": "python",
   "nbconvert_exporter": "python",
   "pygments_lexer": "ipython3",
   "version": "3.10.12"
  }
 },
 "nbformat": 4,
 "nbformat_minor": 2
}
