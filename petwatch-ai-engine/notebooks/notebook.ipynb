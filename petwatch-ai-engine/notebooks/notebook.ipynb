{
 "cells": [
  {
   "cell_type": "code",
   "execution_count": null,
   "metadata": {},
   "outputs": [],
   "source": [
    "from requests import get, post"
   ]
  },
  {
   "cell_type": "code",
   "execution_count": 126,
   "metadata": {},
   "outputs": [
    {
     "data": {
      "text/plain": [
       "{'error_count': {'count': 0},\n",
       " 'error_logs': [],\n",
       " 'success_count': {'count': 102},\n",
       " 'success_logs': [{'date': '2023-09-08',\n",
       "   'hour': '00:23:18-03:00',\n",
       "   'id': 102,\n",
       "   'message': 'Gato encontrado',\n",
       "   'rota': 'inferencia',\n",
       "   'status': 'sucesso',\n",
       "   'tipo': 'post'},\n",
       "  {'date': '2023-09-08',\n",
       "   'hour': '00:23:18-03:00',\n",
       "   'id': 101,\n",
       "   'message': 'Gato encontrado',\n",
       "   'rota': 'inferencia',\n",
       "   'status': 'sucesso',\n",
       "   'tipo': 'post'},\n",
       "  {'date': '2023-09-08',\n",
       "   'hour': '00:23:18-03:00',\n",
       "   'id': 100,\n",
       "   'message': 'Gato encontrado',\n",
       "   'rota': 'inferencia',\n",
       "   'status': 'sucesso',\n",
       "   'tipo': 'post'},\n",
       "  {'date': '2023-09-08',\n",
       "   'hour': '00:23:18-03:00',\n",
       "   'id': 99,\n",
       "   'message': 'Gato encontrado',\n",
       "   'rota': 'inferencia',\n",
       "   'status': 'sucesso',\n",
       "   'tipo': 'post'},\n",
       "  {'date': '2023-09-08',\n",
       "   'hour': '00:23:18-03:00',\n",
       "   'id': 98,\n",
       "   'message': 'Gato encontrado',\n",
       "   'rota': 'inferencia',\n",
       "   'status': 'sucesso',\n",
       "   'tipo': 'post'},\n",
       "  {'date': '2023-09-08',\n",
       "   'hour': '00:23:18-03:00',\n",
       "   'id': 97,\n",
       "   'message': 'Gato encontrado',\n",
       "   'rota': 'inferencia',\n",
       "   'status': 'sucesso',\n",
       "   'tipo': 'post'},\n",
       "  {'date': '2023-09-08',\n",
       "   'hour': '00:23:18-03:00',\n",
       "   'id': 96,\n",
       "   'message': 'Gato encontrado',\n",
       "   'rota': 'inferencia',\n",
       "   'status': 'sucesso',\n",
       "   'tipo': 'post'},\n",
       "  {'date': '2023-09-08',\n",
       "   'hour': '00:23:18-03:00',\n",
       "   'id': 95,\n",
       "   'message': 'Gato encontrado',\n",
       "   'rota': 'inferencia',\n",
       "   'status': 'sucesso',\n",
       "   'tipo': 'post'},\n",
       "  {'date': '2023-09-08',\n",
       "   'hour': '00:23:18-03:00',\n",
       "   'id': 94,\n",
       "   'message': 'Gato encontrado',\n",
       "   'rota': 'inferencia',\n",
       "   'status': 'sucesso',\n",
       "   'tipo': 'post'},\n",
       "  {'date': '2023-09-08',\n",
       "   'hour': '00:23:18-03:00',\n",
       "   'id': 93,\n",
       "   'message': 'Gato encontrado',\n",
       "   'rota': 'inferencia',\n",
       "   'status': 'sucesso',\n",
       "   'tipo': 'post'}]}"
      ]
     },
     "execution_count": 126,
     "metadata": {},
     "output_type": "execute_result"
    }
   ],
   "source": [
    "endpoint = \"http://localhost:5000/status\"\n",
    "get(endpoint).json()"
   ]
  },
  {
   "cell_type": "code",
   "execution_count": null,
   "metadata": {},
   "outputs": [],
   "source": []
  },
  {
   "cell_type": "code",
   "execution_count": null,
   "metadata": {},
   "outputs": [],
   "source": [
    "import base64\n",
    "\n",
    "# Função para ler a imagem em Base64 de um arquivo e convertê-la em uma string Base64\n",
    "def ler_imagem_base64(nome_arquivo):\n",
    "    with open(nome_arquivo, \"rb\") as imagem_file:\n",
    "        imagem_base64 = base64.b64encode(imagem_file.read()).decode('utf-8')\n",
    "    return imagem_base64"
   ]
  },
  {
   "cell_type": "code",
   "execution_count": null,
   "metadata": {},
   "outputs": [],
   "source": []
  },
  {
   "cell_type": "code",
   "execution_count": null,
   "metadata": {},
   "outputs": [],
   "source": [
    "ls ../"
   ]
  },
  {
   "cell_type": "code",
   "execution_count": 87,
   "metadata": {},
   "outputs": [],
   "source": [
    "data = {\n",
    "    #\"imagem_base64\": ler_imagem_base64(\"../uly.jpeg\")\n",
    "    \"imagem_base64\": ler_imagem_base64(\"Uly.jpg\")\n",
    "    \n",
    "}"
   ]
  },
  {
   "cell_type": "code",
   "execution_count": 97,
   "metadata": {},
   "outputs": [],
   "source": [
    "for _ in range(100):\n",
    "    endpoint = \"http://localhost:5000/inferencia\"\n",
    "    post(endpoint, json=data).json()"
   ]
  },
  {
   "cell_type": "code",
   "execution_count": 96,
   "metadata": {},
   "outputs": [
    {
     "data": {
      "text/plain": [
       "{'bbox': {'x': 139, 'x2': 501, 'y': 0, 'y2': 360},\n",
       " 'label': 'gato',\n",
       " 'message': 'Gato encontrado',\n",
       " 'nome': 'uly-0.999999'}"
      ]
     },
     "execution_count": 96,
     "metadata": {},
     "output_type": "execute_result"
    }
   ],
   "source": [
    "endpoint = \"http://localhost:5000/inferencia\"\n",
    "post(endpoint, json=data).json()"
   ]
  },
  {
   "cell_type": "code",
   "execution_count": null,
   "metadata": {},
   "outputs": [],
   "source": [
    "from os import chdir"
   ]
  },
  {
   "cell_type": "code",
   "execution_count": null,
   "metadata": {},
   "outputs": [],
   "source": [
    "chdir(\"../\")"
   ]
  },
  {
   "cell_type": "code",
   "execution_count": 101,
   "metadata": {},
   "outputs": [],
   "source": [
    "from lmodel.database import DataBase"
   ]
  },
  {
   "cell_type": "code",
   "execution_count": 102,
   "metadata": {},
   "outputs": [],
   "source": [
    "db = DataBase()"
   ]
  },
  {
   "cell_type": "code",
   "execution_count": 103,
   "metadata": {},
   "outputs": [
    {
     "data": {
      "text/plain": [
       "[OrderedDict([('count', 102)])]"
      ]
     },
     "execution_count": 103,
     "metadata": {},
     "output_type": "execute_result"
    }
   ],
   "source": [
    "db.search('SELECT COUNT(*) as count FROM request_log WHERE status = \"sucesso\"')"
   ]
  },
  {
   "cell_type": "code",
   "execution_count": 76,
   "metadata": {},
   "outputs": [
    {
     "data": {
      "text/plain": [
       "[OrderedDict([('count', 0)])]"
      ]
     },
     "execution_count": 76,
     "metadata": {},
     "output_type": "execute_result"
    }
   ],
   "source": [
    "db.search('SELECT COUNT(*) as count FROM request_log WHERE status = \"erro\"')"
   ]
  },
  {
   "cell_type": "code",
   "execution_count": 123,
   "metadata": {},
   "outputs": [
    {
     "data": {
      "text/plain": [
       "[OrderedDict([('id', 102),\n",
       "              ('status', 'sucesso'),\n",
       "              ('message', 'Gato encontrado'),\n",
       "              ('rota', 'inferencia'),\n",
       "              ('tipo', 'post'),\n",
       "              ('date', '2023-09-08'),\n",
       "              ('hour', '00:23:18-03:00')]),\n",
       " OrderedDict([('id', 101),\n",
       "              ('status', 'sucesso'),\n",
       "              ('message', 'Gato encontrado'),\n",
       "              ('rota', 'inferencia'),\n",
       "              ('tipo', 'post'),\n",
       "              ('date', '2023-09-08'),\n",
       "              ('hour', '00:23:18-03:00')]),\n",
       " OrderedDict([('id', 100),\n",
       "              ('status', 'sucesso'),\n",
       "              ('message', 'Gato encontrado'),\n",
       "              ('rota', 'inferencia'),\n",
       "              ('tipo', 'post'),\n",
       "              ('date', '2023-09-08'),\n",
       "              ('hour', '00:23:18-03:00')]),\n",
       " OrderedDict([('id', 99),\n",
       "              ('status', 'sucesso'),\n",
       "              ('message', 'Gato encontrado'),\n",
       "              ('rota', 'inferencia'),\n",
       "              ('tipo', 'post'),\n",
       "              ('date', '2023-09-08'),\n",
       "              ('hour', '00:23:18-03:00')]),\n",
       " OrderedDict([('id', 98),\n",
       "              ('status', 'sucesso'),\n",
       "              ('message', 'Gato encontrado'),\n",
       "              ('rota', 'inferencia'),\n",
       "              ('tipo', 'post'),\n",
       "              ('date', '2023-09-08'),\n",
       "              ('hour', '00:23:18-03:00')]),\n",
       " OrderedDict([('id', 97),\n",
       "              ('status', 'sucesso'),\n",
       "              ('message', 'Gato encontrado'),\n",
       "              ('rota', 'inferencia'),\n",
       "              ('tipo', 'post'),\n",
       "              ('date', '2023-09-08'),\n",
       "              ('hour', '00:23:18-03:00')]),\n",
       " OrderedDict([('id', 96),\n",
       "              ('status', 'sucesso'),\n",
       "              ('message', 'Gato encontrado'),\n",
       "              ('rota', 'inferencia'),\n",
       "              ('tipo', 'post'),\n",
       "              ('date', '2023-09-08'),\n",
       "              ('hour', '00:23:18-03:00')]),\n",
       " OrderedDict([('id', 95),\n",
       "              ('status', 'sucesso'),\n",
       "              ('message', 'Gato encontrado'),\n",
       "              ('rota', 'inferencia'),\n",
       "              ('tipo', 'post'),\n",
       "              ('date', '2023-09-08'),\n",
       "              ('hour', '00:23:18-03:00')]),\n",
       " OrderedDict([('id', 94),\n",
       "              ('status', 'sucesso'),\n",
       "              ('message', 'Gato encontrado'),\n",
       "              ('rota', 'inferencia'),\n",
       "              ('tipo', 'post'),\n",
       "              ('date', '2023-09-08'),\n",
       "              ('hour', '00:23:18-03:00')]),\n",
       " OrderedDict([('id', 93),\n",
       "              ('status', 'sucesso'),\n",
       "              ('message', 'Gato encontrado'),\n",
       "              ('rota', 'inferencia'),\n",
       "              ('tipo', 'post'),\n",
       "              ('date', '2023-09-08'),\n",
       "              ('hour', '00:23:18-03:00')])]"
      ]
     },
     "execution_count": 123,
     "metadata": {},
     "output_type": "execute_result"
    }
   ],
   "source": [
    "db.search('SELECT * FROM request_log WHERE status = \"sucesso\" ORDER BY id  DESC  LIMIT 10 ')"
   ]
  },
  {
   "cell_type": "code",
   "execution_count": null,
   "metadata": {},
   "outputs": [],
   "source": []
  }
 ],
 "metadata": {
  "kernelspec": {
   "display_name": "env",
   "language": "python",
   "name": "python3"
  },
  "language_info": {
   "codemirror_mode": {
    "name": "ipython",
    "version": 3
   },
   "file_extension": ".py",
   "mimetype": "text/x-python",
   "name": "python",
   "nbconvert_exporter": "python",
   "pygments_lexer": "ipython3",
   "version": "3.10.12"
  },
  "orig_nbformat": 4
 },
 "nbformat": 4,
 "nbformat_minor": 2
}
