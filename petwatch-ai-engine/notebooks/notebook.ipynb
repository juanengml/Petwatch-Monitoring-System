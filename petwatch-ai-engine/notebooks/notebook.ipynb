{
 "cells": [
  {
   "cell_type": "code",
   "execution_count": 38,
   "metadata": {},
   "outputs": [],
   "source": [
    "from requests import get, post\n",
    "from time import sleep"
   ]
  },
  {
   "cell_type": "code",
   "execution_count": 24,
   "metadata": {},
   "outputs": [
    {
     "data": {
      "text/plain": [
       "{'error_count': {'count': 0},\n",
       " 'error_logs': [],\n",
       " 'success_count': {'count': 300},\n",
       " 'success_logs': [{'date': '2023-09-09',\n",
       "   'hour': '17:06:48-03:00',\n",
       "   'id': 300,\n",
       "   'message': 'Gato encontrado',\n",
       "   'rota': 'inferencia',\n",
       "   'status': 'sucesso',\n",
       "   'tipo': 'post'},\n",
       "  {'date': '2023-09-09',\n",
       "   'hour': '17:06:48-03:00',\n",
       "   'id': 299,\n",
       "   'message': 'Gato encontrado',\n",
       "   'rota': 'inferencia',\n",
       "   'status': 'sucesso',\n",
       "   'tipo': 'post'},\n",
       "  {'date': '2023-09-09',\n",
       "   'hour': '17:06:48-03:00',\n",
       "   'id': 298,\n",
       "   'message': 'Gato encontrado',\n",
       "   'rota': 'inferencia',\n",
       "   'status': 'sucesso',\n",
       "   'tipo': 'post'},\n",
       "  {'date': '2023-09-09',\n",
       "   'hour': '17:06:48-03:00',\n",
       "   'id': 297,\n",
       "   'message': 'Gato encontrado',\n",
       "   'rota': 'inferencia',\n",
       "   'status': 'sucesso',\n",
       "   'tipo': 'post'},\n",
       "  {'date': '2023-09-09',\n",
       "   'hour': '17:06:48-03:00',\n",
       "   'id': 296,\n",
       "   'message': 'Gato encontrado',\n",
       "   'rota': 'inferencia',\n",
       "   'status': 'sucesso',\n",
       "   'tipo': 'post'},\n",
       "  {'date': '2023-09-09',\n",
       "   'hour': '17:06:47-03:00',\n",
       "   'id': 295,\n",
       "   'message': 'Gato encontrado',\n",
       "   'rota': 'inferencia',\n",
       "   'status': 'sucesso',\n",
       "   'tipo': 'post'},\n",
       "  {'date': '2023-09-09',\n",
       "   'hour': '17:06:47-03:00',\n",
       "   'id': 294,\n",
       "   'message': 'Gato encontrado',\n",
       "   'rota': 'inferencia',\n",
       "   'status': 'sucesso',\n",
       "   'tipo': 'post'},\n",
       "  {'date': '2023-09-09',\n",
       "   'hour': '17:06:47-03:00',\n",
       "   'id': 293,\n",
       "   'message': 'Gato encontrado',\n",
       "   'rota': 'inferencia',\n",
       "   'status': 'sucesso',\n",
       "   'tipo': 'post'},\n",
       "  {'date': '2023-09-09',\n",
       "   'hour': '17:06:47-03:00',\n",
       "   'id': 292,\n",
       "   'message': 'Gato encontrado',\n",
       "   'rota': 'inferencia',\n",
       "   'status': 'sucesso',\n",
       "   'tipo': 'post'},\n",
       "  {'date': '2023-09-09',\n",
       "   'hour': '17:06:46-03:00',\n",
       "   'id': 291,\n",
       "   'message': 'Gato encontrado',\n",
       "   'rota': 'inferencia',\n",
       "   'status': 'sucesso',\n",
       "   'tipo': 'post'}]}"
      ]
     },
     "execution_count": 24,
     "metadata": {},
     "output_type": "execute_result"
    }
   ],
   "source": [
    "endpoint = \"http://localhost:5000/inferencia/status\"\n",
    "get(endpoint).json()"
   ]
  },
  {
   "cell_type": "code",
   "execution_count": null,
   "metadata": {},
   "outputs": [],
   "source": []
  },
  {
   "cell_type": "code",
   "execution_count": 9,
   "metadata": {},
   "outputs": [],
   "source": [
    "import base64\n",
    "\n",
    "# Função para ler a imagem em Base64 de um arquivo e convertê-la em uma string Base64\n",
    "def ler_imagem_base64(nome_arquivo):\n",
    "    with open(nome_arquivo, \"rb\") as imagem_file:\n",
    "        imagem_base64 = base64.b64encode(imagem_file.read()).decode('utf-8')\n",
    "    return imagem_base64"
   ]
  },
  {
   "cell_type": "code",
   "execution_count": 14,
   "metadata": {},
   "outputs": [],
   "source": [
    "data = {\n",
    "    \"imagem_base64\": ler_imagem_base64(\"../uly.jpeg\")\n",
    "    #\"imagem_base64\": ler_imagem_base64(\"../Uly.jpg\")\n",
    "    \n",
    "}"
   ]
  },
  {
   "cell_type": "code",
   "execution_count": 45,
   "metadata": {},
   "outputs": [
    {
     "name": "stdout",
     "output_type": "stream",
     "text": [
      "[20, 23, 2, 10, 25, 10, 2] 20\n",
      "wait...\n",
      "[10, 25, 10, 20, 2, 23, 2] 10\n",
      "wait...\n",
      "[2, 20, 25, 10, 23, 10, 2] 2\n",
      "wait...\n",
      "[20, 10, 2, 25, 2, 23, 10] 20\n",
      "wait...\n",
      "[2, 2, 10, 25, 23, 10, 20] 2\n",
      "wait...\n",
      "[2, 10, 25, 23, 10, 2, 20] 2\n",
      "wait...\n",
      "[20, 10, 2, 10, 2, 23, 25] 20\n",
      "wait...\n",
      "[20, 25, 23, 10, 10, 2, 2] 20\n",
      "wait...\n",
      "[2, 20, 2, 25, 10, 10, 23] 2\n",
      "wait...\n",
      "[2, 10, 10, 20, 2, 23, 25] 2\n",
      "wait...\n"
     ]
    }
   ],
   "source": [
    "from random import shuffle\n",
    "for _ in range(10):\n",
    "  req = [10,25,20,2,23,10,2]\n",
    "  shuffle(req)\n",
    "  print(req, req[0])\n",
    "  for _ in range(req[0]):\n",
    "    endpoint = \"http://localhost:5000/inferencia\"\n",
    "    post(endpoint, json=data).json()\n",
    "  sleep(60)\n",
    "  print(\"wait...\")"
   ]
  },
  {
   "cell_type": "code",
   "execution_count": 37,
   "metadata": {},
   "outputs": [],
   "source": [
    "for _ in range(100):\n",
    "    endpoint = \"http://localhost:5000/inferencia\"\n",
    "    post(endpoint, json=data).json()\n",
    "    "
   ]
  },
  {
   "cell_type": "code",
   "execution_count": 29,
   "metadata": {},
   "outputs": [],
   "source": [
    "from os import chdir"
   ]
  },
  {
   "cell_type": "code",
   "execution_count": 30,
   "metadata": {},
   "outputs": [],
   "source": [
    "chdir(\"../\")"
   ]
  },
  {
   "cell_type": "code",
   "execution_count": 31,
   "metadata": {},
   "outputs": [],
   "source": [
    "from lmodel.database import DataBase"
   ]
  },
  {
   "cell_type": "code",
   "execution_count": 32,
   "metadata": {},
   "outputs": [],
   "source": [
    "db = DataBase()"
   ]
  },
  {
   "cell_type": "code",
   "execution_count": 33,
   "metadata": {},
   "outputs": [
    {
     "data": {
      "text/plain": [
       "[OrderedDict([('count', 400)])]"
      ]
     },
     "execution_count": 33,
     "metadata": {},
     "output_type": "execute_result"
    }
   ],
   "source": [
    "db.search('SELECT COUNT(*) as count FROM request_log WHERE status = \"sucesso\"')"
   ]
  },
  {
   "cell_type": "code",
   "execution_count": 34,
   "metadata": {},
   "outputs": [
    {
     "data": {
      "text/plain": [
       "[OrderedDict([('count', 0)])]"
      ]
     },
     "execution_count": 34,
     "metadata": {},
     "output_type": "execute_result"
    }
   ],
   "source": [
    "db.search('SELECT COUNT(*) as count FROM request_log WHERE status = \"erro\"')"
   ]
  },
  {
   "cell_type": "code",
   "execution_count": 36,
   "metadata": {},
   "outputs": [
    {
     "data": {
      "text/plain": [
       "[OrderedDict([('id', 1),\n",
       "              ('status', 'sucesso'),\n",
       "              ('message', 'Gato encontrado'),\n",
       "              ('rota', 'inferencia'),\n",
       "              ('tipo', 'post'),\n",
       "              ('date', '2023-09-09'),\n",
       "              ('hour', '17:01:31-03:00')]),\n",
       " OrderedDict([('id', 2),\n",
       "              ('status', 'sucesso'),\n",
       "              ('message', 'Gato encontrado'),\n",
       "              ('rota', 'inferencia'),\n",
       "              ('tipo', 'post'),\n",
       "              ('date', '2023-09-09'),\n",
       "              ('hour', '17:01:32-03:00')]),\n",
       " OrderedDict([('id', 3),\n",
       "              ('status', 'sucesso'),\n",
       "              ('message', 'Gato encontrado'),\n",
       "              ('rota', 'inferencia'),\n",
       "              ('tipo', 'post'),\n",
       "              ('date', '2023-09-09'),\n",
       "              ('hour', '17:01:32-03:00')]),\n",
       " OrderedDict([('id', 4),\n",
       "              ('status', 'sucesso'),\n",
       "              ('message', 'Gato encontrado'),\n",
       "              ('rota', 'inferencia'),\n",
       "              ('tipo', 'post'),\n",
       "              ('date', '2023-09-09'),\n",
       "              ('hour', '17:01:32-03:00')]),\n",
       " OrderedDict([('id', 5),\n",
       "              ('status', 'sucesso'),\n",
       "              ('message', 'Gato encontrado'),\n",
       "              ('rota', 'inferencia'),\n",
       "              ('tipo', 'post'),\n",
       "              ('date', '2023-09-09'),\n",
       "              ('hour', '17:01:32-03:00')]),\n",
       " OrderedDict([('id', 6),\n",
       "              ('status', 'sucesso'),\n",
       "              ('message', 'Gato encontrado'),\n",
       "              ('rota', 'inferencia'),\n",
       "              ('tipo', 'post'),\n",
       "              ('date', '2023-09-09'),\n",
       "              ('hour', '17:01:32-03:00')]),\n",
       " OrderedDict([('id', 7),\n",
       "              ('status', 'sucesso'),\n",
       "              ('message', 'Gato encontrado'),\n",
       "              ('rota', 'inferencia'),\n",
       "              ('tipo', 'post'),\n",
       "              ('date', '2023-09-09'),\n",
       "              ('hour', '17:01:32-03:00')]),\n",
       " OrderedDict([('id', 8),\n",
       "              ('status', 'sucesso'),\n",
       "              ('message', 'Gato encontrado'),\n",
       "              ('rota', 'inferencia'),\n",
       "              ('tipo', 'post'),\n",
       "              ('date', '2023-09-09'),\n",
       "              ('hour', '17:01:32-03:00')]),\n",
       " OrderedDict([('id', 9),\n",
       "              ('status', 'sucesso'),\n",
       "              ('message', 'Gato encontrado'),\n",
       "              ('rota', 'inferencia'),\n",
       "              ('tipo', 'post'),\n",
       "              ('date', '2023-09-09'),\n",
       "              ('hour', '17:01:33-03:00')]),\n",
       " OrderedDict([('id', 10),\n",
       "              ('status', 'sucesso'),\n",
       "              ('message', 'Gato encontrado'),\n",
       "              ('rota', 'inferencia'),\n",
       "              ('tipo', 'post'),\n",
       "              ('date', '2023-09-09'),\n",
       "              ('hour', '17:01:33-03:00')])]"
      ]
     },
     "execution_count": 36,
     "metadata": {},
     "output_type": "execute_result"
    }
   ],
   "source": [
    "db.search('SELECT * FROM request_log WHERE status = \"sucesso\" ORDER BY id  ASC  LIMIT 10 ')"
   ]
  },
  {
   "cell_type": "code",
   "execution_count": null,
   "metadata": {},
   "outputs": [],
   "source": []
  },
  {
   "cell_type": "code",
   "execution_count": null,
   "metadata": {},
   "outputs": [],
   "source": []
  }
 ],
 "metadata": {
  "kernelspec": {
   "display_name": "env",
   "language": "python",
   "name": "python3"
  },
  "language_info": {
   "codemirror_mode": {
    "name": "ipython",
    "version": 3
   },
   "file_extension": ".py",
   "mimetype": "text/x-python",
   "name": "python",
   "nbconvert_exporter": "python",
   "pygments_lexer": "ipython3",
   "version": "3.10.12"
  },
  "orig_nbformat": 4
 },
 "nbformat": 4,
 "nbformat_minor": 2
}
