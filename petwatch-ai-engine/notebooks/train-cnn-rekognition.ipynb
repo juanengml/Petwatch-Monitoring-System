{
 "cells": [
  {
   "cell_type": "markdown",
   "metadata": {},
   "source": [
    "## Train Model Rekognition"
   ]
  },
  {
   "cell_type": "code",
   "execution_count": 2,
   "metadata": {},
   "outputs": [],
   "source": [
    "import boto3"
   ]
  },
  {
   "cell_type": "code",
   "execution_count": null,
   "metadata": {},
   "outputs": [],
   "source": [
    "!aws rekognition create-project \\\n",
    "  --project-name petwatch-ai\n"
   ]
  },
  {
   "cell_type": "code",
   "execution_count": null,
   "metadata": {},
   "outputs": [],
   "source": [
    "#!aws rekognition create-project --project-name petwatch-ai-cat --project-description \"Projeto para classificação de gatos\"\n",
    "!aws rekognition create-project --project-name petwatch-ai-cat "
   ]
  },
  {
   "cell_type": "code",
   "execution_count": null,
   "metadata": {},
   "outputs": [],
   "source": []
  },
  {
   "cell_type": "code",
   "execution_count": null,
   "metadata": {},
   "outputs": [],
   "source": []
  },
  {
   "cell_type": "markdown",
   "metadata": {},
   "source": [
    "## Retrain"
   ]
  },
  {
   "cell_type": "markdown",
   "metadata": {},
   "source": []
  },
  {
   "cell_type": "markdown",
   "metadata": {},
   "source": [
    "## Inference"
   ]
  },
  {
   "cell_type": "markdown",
   "metadata": {},
   "source": []
  },
  {
   "cell_type": "code",
   "execution_count": 2,
   "metadata": {},
   "outputs": [
    {
     "name": "stdout",
     "output_type": "stream",
     "text": [
      "{'CustomLabels': [{'Name': 'ada', 'Confidence': 99.94999694824219}], 'ResponseMetadata': {'RequestId': '5cc8366b-350a-488c-b597-daf189ee0282', 'HTTPStatusCode': 200, 'HTTPHeaders': {'x-amzn-requestid': '5cc8366b-350a-488c-b597-daf189ee0282', 'content-type': 'application/x-amz-json-1.1', 'content-length': '64', 'date': 'Sun, 22 Oct 2023 20:14:26 GMT'}, 'RetryAttempts': 0}}\n",
      "Custom labels detected: ('ada', 99.94999694824219)\n"
     ]
    }
   ],
   "source": [
    "import boto3\n",
    "import io\n",
    "from PIL import Image, ImageDraw, ExifTags, ImageColor, ImageFont\n",
    "\n",
    "def display_image(image, response):\n",
    "    # Ready image to draw bounding boxes on it.\n",
    "    imgWidth, imgHeight = image.size\n",
    "    draw = ImageDraw.Draw(image)\n",
    "\n",
    "    # calculate and display bounding boxes for each detected custom label\n",
    "    print('Detected custom labels')\n",
    "    for customLabel in response['CustomLabels']:\n",
    "        print('Label ' + str(customLabel['Name']))\n",
    "        print('Confidence ' + str(customLabel['Confidence']))\n",
    "        if 'Geometry' in customLabel:\n",
    "            box = customLabel['Geometry']['BoundingBox']\n",
    "            left = imgWidth * box['Left']\n",
    "            top = imgHeight * box['Top']\n",
    "            width = imgWidth * box['Width']\n",
    "            height = imgHeight * box['Height']\n",
    "\n",
    "            fnt = ImageFont.truetype('/Library/Fonts/Arial.ttf', 50)\n",
    "            draw.text((left, top), customLabel['Name'], fill='#00d400', font=fnt)\n",
    "\n",
    "            print('Left: ' + '{0:.0f}'.format(left))\n",
    "            print('Top: ' + '{0:.0f}'.format(top))\n",
    "            print('Label Width: ' + \"{0:.0f}\".format(width))\n",
    "            print('Label Height: ' + \"{0:.0f}\".format(height))\n",
    "\n",
    "            points = (\n",
    "                (left, top),\n",
    "                (left + width, top),\n",
    "                (left + width, top + height),\n",
    "                (left, top + height),\n",
    "                (left, top))\n",
    "            draw.line(points, fill='#00d400', width=5)\n",
    "\n",
    "    image.show()\n",
    "\n",
    "def show_custom_labels(model, image_bytes, min_confidence):\n",
    "    client = boto3.client('rekognition', region_name='us-east-1')\n",
    "\n",
    "\n",
    "    # Call DetectCustomLabels with the image in bytes\n",
    "    \n",
    "    response = client.detect_custom_labels(Image={'Bytes': image_bytes},\n",
    "        ProjectVersionArn=model)\n",
    "\n",
    "    # For object detection use case, uncomment below code to display image.\n",
    "    # display_image(image, response)\n",
    "    print(response)\n",
    "\n",
    "    return response['CustomLabels'][0]['Name'], response['CustomLabels'][0]['Confidence']\n",
    "\n",
    "def main():\n",
    "    # Load the image as a PIL image\n",
    "    with open('/home/juannascimento/Downloads/f5f74db1e334f745cad6acb0a7e27d81-48430d65356337e0987366f060cd4c06ccd660a4/ada/cat_3.jpg', 'rb') as image_file:\n",
    "        image_bytes = image_file.read()\n",
    "\n",
    "    model = 'ARN AQUI'\n",
    "    min_confidence = 95\n",
    "\n",
    "    label_count = show_custom_labels(model, image_bytes, min_confidence)\n",
    "    print(\"Custom labels detected: \" + str(label_count))\n",
    "\n",
    "if __name__ == \"__main__\":\n",
    "    main()\n"
   ]
  },
  {
   "cell_type": "code",
   "execution_count": 59,
   "metadata": {},
   "outputs": [
    {
     "name": "stdout",
     "output_type": "stream",
     "text": [
      "\u001b[0m\u001b[01;34mada\u001b[0m/                      projeto-cnn-classificador-dog-vs-cat.ipynb\n",
      "export_cat_to_path.ipynb  train-cnn-rekognition.ipynb\n",
      "\u001b[01;35mLoraLinda.jpeg\u001b[0m\n"
     ]
    }
   ],
   "source": []
  },
  {
   "cell_type": "code",
   "execution_count": null,
   "metadata": {},
   "outputs": [],
   "source": []
  }
 ],
 "metadata": {
  "kernelspec": {
   "display_name": "Python 3",
   "language": "python",
   "name": "python3"
  },
  "language_info": {
   "codemirror_mode": {
    "name": "ipython",
    "version": 3
   },
   "file_extension": ".py",
   "mimetype": "text/x-python",
   "name": "python",
   "nbconvert_exporter": "python",
   "pygments_lexer": "ipython3",
   "version": "3.10.12"
  }
 },
 "nbformat": 4,
 "nbformat_minor": 2
}
