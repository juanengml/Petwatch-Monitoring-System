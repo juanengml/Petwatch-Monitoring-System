{
 "cells": [
  {
   "cell_type": "code",
   "execution_count": null,
   "metadata": {},
   "outputs": [],
   "source": [
    "!pip install requests"
   ]
  },
  {
   "cell_type": "code",
   "execution_count": 134,
   "metadata": {},
   "outputs": [],
   "source": [
    "from os import listdir"
   ]
  },
  {
   "cell_type": "code",
   "execution_count": 136,
   "metadata": {},
   "outputs": [
    {
     "data": {
      "text/plain": [
       "['uly.jpeg',\n",
       " 'UlyDePe.jpeg',\n",
       " 'mimi.jpg',\n",
       " 'old.jpg',\n",
       " 'lora.jpeg',\n",
       " 'IMG-20220722-WA0001.jpg',\n",
       " 'SamColo.jpeg',\n",
       " 'gato.jpg',\n",
       " 'UlyDe.jpeg',\n",
       " 'front_mimi.jpg',\n",
       " 'sam.jpeg',\n",
       " 'Sam.jpeg',\n",
       " 'SamColo.jpg',\n",
       " 'cat_face_front.jpg',\n",
       " '20211216_133448.jpg']"
      ]
     },
     "execution_count": 136,
     "metadata": {},
     "output_type": "execute_result"
    }
   ],
   "source": [
    "listdir(\"data/imgs/\")"
   ]
  },
  {
   "cell_type": "code",
   "execution_count": 137,
   "metadata": {},
   "outputs": [],
   "source": [
    "import requests\n",
    "import json\n",
    "import base64\n",
    "\n",
    "# URL da API\n",
    "base_url = 'http://localhost:5000'  # Certifique-se de que o servidor Flask esteja em execução na porta correta\n",
    "\n",
    "# Função para ler a imagem em Base64 de um arquivo e convertê-la em uma string Base64\n",
    "def ler_imagem_base64(nome_arquivo):\n",
    "    with open(nome_arquivo, \"rb\") as imagem_file:\n",
    "        imagem_base64 = base64.b64encode(imagem_file.read()).decode('utf-8')\n",
    "    return imagem_base64\n",
    "\n"
   ]
  },
  {
   "cell_type": "code",
   "execution_count": 146,
   "metadata": {},
   "outputs": [],
   "source": [
    "sam_fotos = listdir(\"data/imgs/Sam\")"
   ]
  },
  {
   "cell_type": "code",
   "execution_count": 155,
   "metadata": {},
   "outputs": [
    {
     "name": "stdout",
     "output_type": "stream",
     "text": [
      "SamColo.jpeg\n",
      "Gato cadastrado com sucesso\n",
      "sam.jpeg\n",
      "Gato cadastrado com sucesso\n",
      "Sam.jpeg\n",
      "Gato cadastrado com sucesso\n",
      "SamColo.jpg\n",
      "Gato cadastrado com sucesso\n"
     ]
    }
   ],
   "source": [
    "# Dados do gato (incluindo a imagem em Base64)\n",
    "for img in sam_fotos:\n",
    "    data = {\n",
    "        \"nome\": \"Sam\",\n",
    "        \"data_nascimento\": \"2020-03-15\",\n",
    "        \"foto\": ler_imagem_base64(f\"data/imgs/Sam/{img}\")\n",
    "        #SamColo.jpeg  SamColo.jpg  sam.jpeg  Sam.jpeg\n",
    "    }\n",
    "    print(img)\n",
    "    # Cadastrar um Gato (POST)\n",
    "    response = requests.post(f'{base_url}/gatos', json=data)\n",
    "\n",
    "    if response.status_code == 201:\n",
    "        print('Gato cadastrado com sucesso')\n",
    "    else:\n",
    "        print('Erro ao cadastrar o gato', response.text)\n"
   ]
  },
  {
   "cell_type": "code",
   "execution_count": 163,
   "metadata": {},
   "outputs": [
    {
     "data": {
      "text/plain": [
       "[{'bbox': [{'bottom': 175, 'left': 340, 'right': 385, 'top': 130}],\n",
       "  'data_nascimento': '2019-12-31',\n",
       "  'foto': 'data/imgs/Sam/Sam.jpeg',\n",
       "  'landmark': [{'Left Ear-1': [372, 142],\n",
       "    'Left Ear-2': [364, 166],\n",
       "    'Left Ear-3': [374, 160],\n",
       "    'Left Eye': [363, 174],\n",
       "    'Mouth': [351, 148],\n",
       "    'Right Ear-1': [353, 141],\n",
       "    'Right Ear-2': [381, 150],\n",
       "    'Right Ear-3': [351, 166],\n",
       "    'Right Eye': [356, 157]}],\n",
       "  'nome': 'Samuel'},\n",
       " {'bbox': [{'bottom': 221, 'left': 285, 'right': 329, 'top': 177}],\n",
       "  'data_nascimento': '2020-03-15',\n",
       "  'foto': 'imagens_gatos/Sam-ENDau64tJWPAkRasVKtZ8P.jpg',\n",
       "  'landmark': [{'Left Ear-1': [316, 189],\n",
       "    'Left Ear-2': [306, 214],\n",
       "    'Left Ear-3': [316, 205],\n",
       "    'Left Eye': [305, 221],\n",
       "    'Mouth': [293, 191],\n",
       "    'Right Ear-1': [297, 188],\n",
       "    'Right Ear-2': [325, 194],\n",
       "    'Right Ear-3': [293, 214],\n",
       "    'Right Eye': [297, 202]}],\n",
       "  'nome': 'Sam'},\n",
       " {'bbox': [{'bottom': 356, 'left': 54, 'right': 132, 'top': 278}],\n",
       "  'data_nascimento': '2020-03-15',\n",
       "  'foto': 'imagens_gatos/Sam-63bASEsfPZ6ZQS7PJAFeQ3.jpg',\n",
       "  'landmark': [{'Left Ear-1': [112, 293],\n",
       "    'Left Ear-2': [97, 338],\n",
       "    'Left Ear-3': [108, 318],\n",
       "    'Left Eye': [95, 355],\n",
       "    'Mouth': [73, 303],\n",
       "    'Right Ear-1': [83, 294],\n",
       "    'Right Ear-2': [127, 306],\n",
       "    'Right Ear-3': [73, 338],\n",
       "    'Right Eye': [81, 321]}],\n",
       "  'nome': 'Sam'},\n",
       " {'bbox': [{'bottom': 175, 'left': 340, 'right': 385, 'top': 130}],\n",
       "  'data_nascimento': '2020-03-15',\n",
       "  'foto': 'imagens_gatos/Sam-hKRsAPz3ERNPADb22hKDLU.jpg',\n",
       "  'landmark': [{'Left Ear-1': [372, 142],\n",
       "    'Left Ear-2': [364, 166],\n",
       "    'Left Ear-3': [374, 160],\n",
       "    'Left Eye': [363, 174],\n",
       "    'Mouth': [351, 148],\n",
       "    'Right Ear-1': [353, 141],\n",
       "    'Right Ear-2': [381, 150],\n",
       "    'Right Ear-3': [351, 166],\n",
       "    'Right Eye': [356, 157]}],\n",
       "  'nome': 'Sam'}]"
      ]
     },
     "execution_count": 163,
     "metadata": {},
     "output_type": "execute_result"
    }
   ],
   "source": [
    "# Listar Todos os Gatos (GET)\n",
    "response = requests.get(f'{base_url}/gatos')\n",
    "\n",
    "response.json()\n"
   ]
  },
  {
   "cell_type": "code",
   "execution_count": 59,
   "metadata": {},
   "outputs": [
    {
     "name": "stdout",
     "output_type": "stream",
     "text": [
      "{'message': 'Gato deletado com sucesso'}\n"
     ]
    }
   ],
   "source": [
    "# Deletar um Gato pelo Nome (DELETE)\n",
    "nome_do_gato = \"Sam\"\n",
    "response = requests.delete(f'{base_url}/gatos/{nome_do_gato}')\n",
    "\n",
    "print(response.json())"
   ]
  },
  {
   "cell_type": "code",
   "execution_count": 162,
   "metadata": {},
   "outputs": [
    {
     "name": "stdout",
     "output_type": "stream",
     "text": [
      "{'message': 'Gato atualizado com sucesso'}\n"
     ]
    }
   ],
   "source": [
    "\n",
    "# Atualizar Informações de um Gato pelo Nome (PUT)\n",
    "nome_do_gato = \"Samuel\"\n",
    "data_atualizada = {\n",
    "    \"nome\": \"Samuel\",\n",
    "    \"data_nascimento\": \"2019-12-31\",\n",
    "    \"foto\": \"data/imgs/Sam/Sam.jpeg\"\n",
    "}\n",
    "\n",
    "response = requests.put(f'{base_url}/gatos/{nome_do_gato}', json=data_atualizada)\n",
    "\n",
    "print(response.json())"
   ]
  },
  {
   "cell_type": "code",
   "execution_count": 159,
   "metadata": {},
   "outputs": [
    {
     "name": "stdout",
     "output_type": "stream",
     "text": [
      "Mensagem: Gato encontrado\n",
      "Detalhes do Gato Encontrado: {'bbox': [{'bottom': 356, 'left': 54, 'right': 132, 'top': 278}], 'data_nascimento': '2020-03-15', 'foto': 'imagens_gatos/Sam-63bASEsfPZ6ZQS7PJAFeQ3.jpg', 'landmark': [{'Left Ear-1': [112, 293], 'Left Ear-2': [97, 338], 'Left Ear-3': [108, 318], 'Left Eye': [95, 355], 'Mouth': [73, 303], 'Right Ear-1': [83, 294], 'Right Ear-2': [127, 306], 'Right Ear-3': [73, 338], 'Right Eye': [81, 321]}], 'nome': 'Sam'}\n"
     ]
    }
   ],
   "source": [
    "import requests\n",
    "import json\n",
    "\n",
    "# URL da sua API Flask\n",
    "url = 'http://localhost:5000/verificar'  # Certifique-se de que o servidor Flask esteja em execução na porta correta\n",
    "\n",
    "# Dados da imagem em Base64 (substitua com os dados da sua imagem em Base64)\n",
    "\n",
    "\n",
    "# Montar os dados em JSON\n",
    "data = {\n",
    "    'imagem_base64': ler_imagem_base64(\"data/imgs/Sam/Sam.jpeg\")\n",
    "}\n",
    "\n",
    "# Enviar a solicitação POST para a rota /verificar\n",
    "response = requests.post(url, json=data)\n",
    "\n",
    "# Verificar a resposta\n",
    "if response.status_code == 200:\n",
    "    resultado = response.json()\n",
    "    print(\"Mensagem:\", resultado['message'])\n",
    "    if 'gato' in resultado:\n",
    "        print(\"Detalhes do Gato Encontrado:\", resultado['gato'])\n",
    "else:\n",
    "    print(\"Erro:\", response.status_code)\n",
    "    print(\"Resposta:\", response.text)\n"
   ]
  },
  {
   "cell_type": "code",
   "execution_count": null,
   "metadata": {},
   "outputs": [],
   "source": []
  },
  {
   "cell_type": "code",
   "execution_count": null,
   "metadata": {},
   "outputs": [],
   "source": []
  }
 ],
 "metadata": {
  "kernelspec": {
   "display_name": "env",
   "language": "python",
   "name": "python3"
  },
  "language_info": {
   "codemirror_mode": {
    "name": "ipython",
    "version": 3
   },
   "file_extension": ".py",
   "mimetype": "text/x-python",
   "name": "python",
   "nbconvert_exporter": "python",
   "pygments_lexer": "ipython3",
   "version": "3.10.12"
  },
  "orig_nbformat": 4
 },
 "nbformat": 4,
 "nbformat_minor": 2
}
